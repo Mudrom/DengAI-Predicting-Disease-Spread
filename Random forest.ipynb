{
 "cells": [
  {
   "cell_type": "code",
   "execution_count": 82,
   "id": "028af84d-81e7-42f7-b024-47df1ff8e063",
   "metadata": {
    "tags": []
   },
   "outputs": [],
   "source": [
    "%matplotlib inline\n",
    "import pandas as pd\n",
    "import numpy as np\n",
    "import seaborn as sns\n",
    "import matplotlib.pyplot as plt\n",
    "\n",
    "from sklearn.feature_selection import SelectFromModel\n",
    "from sklearn.preprocessing import StandardScaler, MinMaxScaler\n",
    "from sklearn.ensemble import RandomForestRegressor as RFR\n",
    "from sklearn.metrics import mean_absolute_error\n",
    "from sklearn.model_selection import cross_val_score"
   ]
  },
  {
   "cell_type": "markdown",
   "id": "9d3e2395-f667-492a-8abe-2ff63c129ff9",
   "metadata": {
    "jp-MarkdownHeadingCollapsed": true,
    "tags": []
   },
   "source": [
    "## Import and Split data"
   ]
  },
  {
   "cell_type": "code",
   "execution_count": 2,
   "id": "51eb31eb-d7f2-47e2-a31c-47f81eb5d738",
   "metadata": {
    "tags": []
   },
   "outputs": [],
   "source": [
    "df_features = pd.read_csv('dengue_features_train.csv')\n",
    "df_labels = pd.read_csv('dengue_labels_train.csv')"
   ]
  },
  {
   "cell_type": "code",
   "execution_count": 3,
   "id": "2e552e1f-c9ea-41ed-aad8-259414b288ab",
   "metadata": {
    "tags": []
   },
   "outputs": [],
   "source": [
    "data = pd.merge(df_features, df_labels, on = ['city','year','weekofyear'], how = 'left')\n",
    "data[\"week_start_date\"] = pd.to_datetime(data[\"week_start_date\"])"
   ]
  },
  {
   "cell_type": "code",
   "execution_count": 4,
   "id": "fa145bdb-6e28-4ebc-8437-b5865da41bb7",
   "metadata": {
    "tags": []
   },
   "outputs": [
    {
     "data": {
      "text/plain": [
       "(1456, 25)"
      ]
     },
     "execution_count": 4,
     "metadata": {},
     "output_type": "execute_result"
    }
   ],
   "source": [
    "data.shape"
   ]
  },
  {
   "cell_type": "code",
   "execution_count": null,
   "id": "92f8f993-05a3-4d46-95f0-c4dab8ee04fa",
   "metadata": {
    "tags": []
   },
   "outputs": [],
   "source": [
    "data.info()"
   ]
  },
  {
   "cell_type": "code",
   "execution_count": null,
   "id": "0e1829f7-0a7e-480c-a3f0-96ec965f2fff",
   "metadata": {
    "tags": []
   },
   "outputs": [],
   "source": [
    "data.isna().sum()"
   ]
  },
  {
   "cell_type": "code",
   "execution_count": 5,
   "id": "c3aa38f9-5c56-47fc-9cea-b4e929d85d4f",
   "metadata": {
    "tags": []
   },
   "outputs": [],
   "source": [
    "sj = data[data.city == 'sj']\n",
    "iq = data[data.city == 'iq']"
   ]
  },
  {
   "cell_type": "code",
   "execution_count": 6,
   "id": "734e4a31-6207-497e-b83d-d942ad165b6c",
   "metadata": {
    "tags": []
   },
   "outputs": [],
   "source": [
    "sj = sj.drop(['city','year','weekofyear',],axis=1).set_index('week_start_date')\n",
    "iq = iq.drop(['city','year','weekofyear',],axis=1).set_index('week_start_date')"
   ]
  },
  {
   "cell_type": "code",
   "execution_count": 7,
   "id": "3870fbfe-0399-4dff-b155-b11fa5a6175c",
   "metadata": {
    "tags": []
   },
   "outputs": [
    {
     "name": "stdout",
     "output_type": "stream",
     "text": [
      "(936, 21)\n",
      "(520, 21)\n"
     ]
    }
   ],
   "source": [
    "print(sj.shape)\n",
    "print(iq.shape)"
   ]
  },
  {
   "cell_type": "code",
   "execution_count": 8,
   "id": "64b13bbe-7ac3-41d7-9721-8cc0c38ecf95",
   "metadata": {
    "tags": []
   },
   "outputs": [],
   "source": [
    "# 8 : 2 train test split(adjust a bit for forward fillna)\n",
    "sj_test_size = 190\n",
    "iq_test_size = 108\n",
    "\n",
    "sj_train, sj_test = sj[:-sj_test_size], sj[-sj_test_size:]\n",
    "iq_train, iq_test = iq[:-iq_test_size], iq[-iq_test_size:]"
   ]
  },
  {
   "cell_type": "code",
   "execution_count": 10,
   "id": "9fb46790-de0f-4589-be62-ee2c1719dd29",
   "metadata": {
    "tags": []
   },
   "outputs": [
    {
     "data": {
      "text/html": [
       "<div>\n",
       "<style scoped>\n",
       "    .dataframe tbody tr th:only-of-type {\n",
       "        vertical-align: middle;\n",
       "    }\n",
       "\n",
       "    .dataframe tbody tr th {\n",
       "        vertical-align: top;\n",
       "    }\n",
       "\n",
       "    .dataframe thead th {\n",
       "        text-align: right;\n",
       "    }\n",
       "</style>\n",
       "<table border=\"1\" class=\"dataframe\">\n",
       "  <thead>\n",
       "    <tr style=\"text-align: right;\">\n",
       "      <th></th>\n",
       "      <th>ndvi_ne</th>\n",
       "      <th>ndvi_nw</th>\n",
       "      <th>ndvi_se</th>\n",
       "      <th>ndvi_sw</th>\n",
       "      <th>precipitation_amt_mm</th>\n",
       "      <th>reanalysis_air_temp_k</th>\n",
       "      <th>reanalysis_avg_temp_k</th>\n",
       "      <th>reanalysis_dew_point_temp_k</th>\n",
       "      <th>reanalysis_max_air_temp_k</th>\n",
       "      <th>reanalysis_min_air_temp_k</th>\n",
       "      <th>...</th>\n",
       "      <th>reanalysis_relative_humidity_percent</th>\n",
       "      <th>reanalysis_sat_precip_amt_mm</th>\n",
       "      <th>reanalysis_specific_humidity_g_per_kg</th>\n",
       "      <th>reanalysis_tdtr_k</th>\n",
       "      <th>station_avg_temp_c</th>\n",
       "      <th>station_diur_temp_rng_c</th>\n",
       "      <th>station_max_temp_c</th>\n",
       "      <th>station_min_temp_c</th>\n",
       "      <th>station_precip_mm</th>\n",
       "      <th>total_cases</th>\n",
       "    </tr>\n",
       "    <tr>\n",
       "      <th>week_start_date</th>\n",
       "      <th></th>\n",
       "      <th></th>\n",
       "      <th></th>\n",
       "      <th></th>\n",
       "      <th></th>\n",
       "      <th></th>\n",
       "      <th></th>\n",
       "      <th></th>\n",
       "      <th></th>\n",
       "      <th></th>\n",
       "      <th></th>\n",
       "      <th></th>\n",
       "      <th></th>\n",
       "      <th></th>\n",
       "      <th></th>\n",
       "      <th></th>\n",
       "      <th></th>\n",
       "      <th></th>\n",
       "      <th></th>\n",
       "      <th></th>\n",
       "      <th></th>\n",
       "    </tr>\n",
       "  </thead>\n",
       "  <tbody>\n",
       "    <tr>\n",
       "      <th>2008-06-03</th>\n",
       "      <td>0.195186</td>\n",
       "      <td>0.157714</td>\n",
       "      <td>0.184429</td>\n",
       "      <td>0.133614</td>\n",
       "      <td>30.09</td>\n",
       "      <td>296.400000</td>\n",
       "      <td>297.357143</td>\n",
       "      <td>295.210000</td>\n",
       "      <td>304.4</td>\n",
       "      <td>292.2</td>\n",
       "      <td>...</td>\n",
       "      <td>93.982857</td>\n",
       "      <td>30.09</td>\n",
       "      <td>16.711429</td>\n",
       "      <td>6.771429</td>\n",
       "      <td>26.900000</td>\n",
       "      <td>7.550000</td>\n",
       "      <td>31.1</td>\n",
       "      <td>20.4</td>\n",
       "      <td>13.6</td>\n",
       "      <td>1</td>\n",
       "    </tr>\n",
       "    <tr>\n",
       "      <th>2008-06-10</th>\n",
       "      <td>0.293743</td>\n",
       "      <td>0.264367</td>\n",
       "      <td>0.246629</td>\n",
       "      <td>0.291957</td>\n",
       "      <td>13.27</td>\n",
       "      <td>296.187143</td>\n",
       "      <td>297.364286</td>\n",
       "      <td>293.891429</td>\n",
       "      <td>305.8</td>\n",
       "      <td>288.2</td>\n",
       "      <td>...</td>\n",
       "      <td>88.810000</td>\n",
       "      <td>13.27</td>\n",
       "      <td>15.375714</td>\n",
       "      <td>9.300000</td>\n",
       "      <td>26.900000</td>\n",
       "      <td>7.550000</td>\n",
       "      <td>31.1</td>\n",
       "      <td>17.8</td>\n",
       "      <td>6.4</td>\n",
       "      <td>0</td>\n",
       "    </tr>\n",
       "    <tr>\n",
       "      <th>2008-06-17</th>\n",
       "      <td>0.224029</td>\n",
       "      <td>0.175471</td>\n",
       "      <td>0.265657</td>\n",
       "      <td>0.245214</td>\n",
       "      <td>111.18</td>\n",
       "      <td>296.742857</td>\n",
       "      <td>297.650000</td>\n",
       "      <td>295.934286</td>\n",
       "      <td>304.4</td>\n",
       "      <td>293.8</td>\n",
       "      <td>...</td>\n",
       "      <td>95.860000</td>\n",
       "      <td>111.18</td>\n",
       "      <td>17.447143</td>\n",
       "      <td>6.957143</td>\n",
       "      <td>26.900000</td>\n",
       "      <td>7.550000</td>\n",
       "      <td>31.1</td>\n",
       "      <td>21.0</td>\n",
       "      <td>79.8</td>\n",
       "      <td>0</td>\n",
       "    </tr>\n",
       "    <tr>\n",
       "      <th>2008-06-24</th>\n",
       "      <td>0.197043</td>\n",
       "      <td>0.277983</td>\n",
       "      <td>0.213943</td>\n",
       "      <td>0.265614</td>\n",
       "      <td>89.88</td>\n",
       "      <td>296.458571</td>\n",
       "      <td>297.250000</td>\n",
       "      <td>295.192857</td>\n",
       "      <td>304.8</td>\n",
       "      <td>291.2</td>\n",
       "      <td>...</td>\n",
       "      <td>93.795714</td>\n",
       "      <td>89.88</td>\n",
       "      <td>16.712857</td>\n",
       "      <td>7.385714</td>\n",
       "      <td>26.900000</td>\n",
       "      <td>7.550000</td>\n",
       "      <td>31.1</td>\n",
       "      <td>18.0</td>\n",
       "      <td>93.5</td>\n",
       "      <td>1</td>\n",
       "    </tr>\n",
       "    <tr>\n",
       "      <th>2008-07-01</th>\n",
       "      <td>0.304829</td>\n",
       "      <td>0.233671</td>\n",
       "      <td>0.248914</td>\n",
       "      <td>0.255814</td>\n",
       "      <td>0.00</td>\n",
       "      <td>296.542857</td>\n",
       "      <td>297.807143</td>\n",
       "      <td>293.830000</td>\n",
       "      <td>304.9</td>\n",
       "      <td>290.7</td>\n",
       "      <td>...</td>\n",
       "      <td>86.524286</td>\n",
       "      <td>0.00</td>\n",
       "      <td>15.285714</td>\n",
       "      <td>9.442857</td>\n",
       "      <td>26.900000</td>\n",
       "      <td>7.550000</td>\n",
       "      <td>31.1</td>\n",
       "      <td>20.8</td>\n",
       "      <td>1.3</td>\n",
       "      <td>0</td>\n",
       "    </tr>\n",
       "    <tr>\n",
       "      <th>...</th>\n",
       "      <td>...</td>\n",
       "      <td>...</td>\n",
       "      <td>...</td>\n",
       "      <td>...</td>\n",
       "      <td>...</td>\n",
       "      <td>...</td>\n",
       "      <td>...</td>\n",
       "      <td>...</td>\n",
       "      <td>...</td>\n",
       "      <td>...</td>\n",
       "      <td>...</td>\n",
       "      <td>...</td>\n",
       "      <td>...</td>\n",
       "      <td>...</td>\n",
       "      <td>...</td>\n",
       "      <td>...</td>\n",
       "      <td>...</td>\n",
       "      <td>...</td>\n",
       "      <td>...</td>\n",
       "      <td>...</td>\n",
       "      <td>...</td>\n",
       "    </tr>\n",
       "    <tr>\n",
       "      <th>2010-05-28</th>\n",
       "      <td>0.342750</td>\n",
       "      <td>0.318900</td>\n",
       "      <td>0.256343</td>\n",
       "      <td>0.292514</td>\n",
       "      <td>55.30</td>\n",
       "      <td>299.334286</td>\n",
       "      <td>300.771429</td>\n",
       "      <td>296.825714</td>\n",
       "      <td>309.7</td>\n",
       "      <td>294.5</td>\n",
       "      <td>...</td>\n",
       "      <td>88.765714</td>\n",
       "      <td>55.30</td>\n",
       "      <td>18.485714</td>\n",
       "      <td>9.800000</td>\n",
       "      <td>28.633333</td>\n",
       "      <td>11.933333</td>\n",
       "      <td>35.4</td>\n",
       "      <td>22.4</td>\n",
       "      <td>27.0</td>\n",
       "      <td>5</td>\n",
       "    </tr>\n",
       "    <tr>\n",
       "      <th>2010-06-04</th>\n",
       "      <td>0.160157</td>\n",
       "      <td>0.160371</td>\n",
       "      <td>0.136043</td>\n",
       "      <td>0.225657</td>\n",
       "      <td>86.47</td>\n",
       "      <td>298.330000</td>\n",
       "      <td>299.392857</td>\n",
       "      <td>296.452857</td>\n",
       "      <td>308.5</td>\n",
       "      <td>291.9</td>\n",
       "      <td>...</td>\n",
       "      <td>91.600000</td>\n",
       "      <td>86.47</td>\n",
       "      <td>18.070000</td>\n",
       "      <td>7.471429</td>\n",
       "      <td>27.433333</td>\n",
       "      <td>10.500000</td>\n",
       "      <td>34.7</td>\n",
       "      <td>21.7</td>\n",
       "      <td>36.6</td>\n",
       "      <td>8</td>\n",
       "    </tr>\n",
       "    <tr>\n",
       "      <th>2010-06-11</th>\n",
       "      <td>0.247057</td>\n",
       "      <td>0.146057</td>\n",
       "      <td>0.250357</td>\n",
       "      <td>0.233714</td>\n",
       "      <td>58.94</td>\n",
       "      <td>296.598571</td>\n",
       "      <td>297.592857</td>\n",
       "      <td>295.501429</td>\n",
       "      <td>305.5</td>\n",
       "      <td>292.4</td>\n",
       "      <td>...</td>\n",
       "      <td>94.280000</td>\n",
       "      <td>58.94</td>\n",
       "      <td>17.008571</td>\n",
       "      <td>7.500000</td>\n",
       "      <td>24.400000</td>\n",
       "      <td>6.900000</td>\n",
       "      <td>32.2</td>\n",
       "      <td>19.2</td>\n",
       "      <td>7.4</td>\n",
       "      <td>1</td>\n",
       "    </tr>\n",
       "    <tr>\n",
       "      <th>2010-06-18</th>\n",
       "      <td>0.333914</td>\n",
       "      <td>0.245771</td>\n",
       "      <td>0.278886</td>\n",
       "      <td>0.325486</td>\n",
       "      <td>59.67</td>\n",
       "      <td>296.345714</td>\n",
       "      <td>297.521429</td>\n",
       "      <td>295.324286</td>\n",
       "      <td>306.1</td>\n",
       "      <td>291.9</td>\n",
       "      <td>...</td>\n",
       "      <td>94.660000</td>\n",
       "      <td>59.67</td>\n",
       "      <td>16.815714</td>\n",
       "      <td>7.871429</td>\n",
       "      <td>25.433333</td>\n",
       "      <td>8.733333</td>\n",
       "      <td>31.2</td>\n",
       "      <td>21.0</td>\n",
       "      <td>16.0</td>\n",
       "      <td>1</td>\n",
       "    </tr>\n",
       "    <tr>\n",
       "      <th>2010-06-25</th>\n",
       "      <td>0.298186</td>\n",
       "      <td>0.232971</td>\n",
       "      <td>0.274214</td>\n",
       "      <td>0.315757</td>\n",
       "      <td>63.22</td>\n",
       "      <td>298.097143</td>\n",
       "      <td>299.835714</td>\n",
       "      <td>295.807143</td>\n",
       "      <td>307.8</td>\n",
       "      <td>292.3</td>\n",
       "      <td>...</td>\n",
       "      <td>89.082857</td>\n",
       "      <td>63.22</td>\n",
       "      <td>17.355714</td>\n",
       "      <td>11.014286</td>\n",
       "      <td>27.475000</td>\n",
       "      <td>9.900000</td>\n",
       "      <td>33.7</td>\n",
       "      <td>22.2</td>\n",
       "      <td>20.4</td>\n",
       "      <td>4</td>\n",
       "    </tr>\n",
       "  </tbody>\n",
       "</table>\n",
       "<p>108 rows × 21 columns</p>\n",
       "</div>"
      ],
      "text/plain": [
       "                  ndvi_ne   ndvi_nw   ndvi_se   ndvi_sw  precipitation_amt_mm  \\\n",
       "week_start_date                                                                 \n",
       "2008-06-03       0.195186  0.157714  0.184429  0.133614                 30.09   \n",
       "2008-06-10       0.293743  0.264367  0.246629  0.291957                 13.27   \n",
       "2008-06-17       0.224029  0.175471  0.265657  0.245214                111.18   \n",
       "2008-06-24       0.197043  0.277983  0.213943  0.265614                 89.88   \n",
       "2008-07-01       0.304829  0.233671  0.248914  0.255814                  0.00   \n",
       "...                   ...       ...       ...       ...                   ...   \n",
       "2010-05-28       0.342750  0.318900  0.256343  0.292514                 55.30   \n",
       "2010-06-04       0.160157  0.160371  0.136043  0.225657                 86.47   \n",
       "2010-06-11       0.247057  0.146057  0.250357  0.233714                 58.94   \n",
       "2010-06-18       0.333914  0.245771  0.278886  0.325486                 59.67   \n",
       "2010-06-25       0.298186  0.232971  0.274214  0.315757                 63.22   \n",
       "\n",
       "                 reanalysis_air_temp_k  reanalysis_avg_temp_k  \\\n",
       "week_start_date                                                 \n",
       "2008-06-03                  296.400000             297.357143   \n",
       "2008-06-10                  296.187143             297.364286   \n",
       "2008-06-17                  296.742857             297.650000   \n",
       "2008-06-24                  296.458571             297.250000   \n",
       "2008-07-01                  296.542857             297.807143   \n",
       "...                                ...                    ...   \n",
       "2010-05-28                  299.334286             300.771429   \n",
       "2010-06-04                  298.330000             299.392857   \n",
       "2010-06-11                  296.598571             297.592857   \n",
       "2010-06-18                  296.345714             297.521429   \n",
       "2010-06-25                  298.097143             299.835714   \n",
       "\n",
       "                 reanalysis_dew_point_temp_k  reanalysis_max_air_temp_k  \\\n",
       "week_start_date                                                           \n",
       "2008-06-03                        295.210000                      304.4   \n",
       "2008-06-10                        293.891429                      305.8   \n",
       "2008-06-17                        295.934286                      304.4   \n",
       "2008-06-24                        295.192857                      304.8   \n",
       "2008-07-01                        293.830000                      304.9   \n",
       "...                                      ...                        ...   \n",
       "2010-05-28                        296.825714                      309.7   \n",
       "2010-06-04                        296.452857                      308.5   \n",
       "2010-06-11                        295.501429                      305.5   \n",
       "2010-06-18                        295.324286                      306.1   \n",
       "2010-06-25                        295.807143                      307.8   \n",
       "\n",
       "                 reanalysis_min_air_temp_k  ...  \\\n",
       "week_start_date                             ...   \n",
       "2008-06-03                           292.2  ...   \n",
       "2008-06-10                           288.2  ...   \n",
       "2008-06-17                           293.8  ...   \n",
       "2008-06-24                           291.2  ...   \n",
       "2008-07-01                           290.7  ...   \n",
       "...                                    ...  ...   \n",
       "2010-05-28                           294.5  ...   \n",
       "2010-06-04                           291.9  ...   \n",
       "2010-06-11                           292.4  ...   \n",
       "2010-06-18                           291.9  ...   \n",
       "2010-06-25                           292.3  ...   \n",
       "\n",
       "                 reanalysis_relative_humidity_percent  \\\n",
       "week_start_date                                         \n",
       "2008-06-03                                  93.982857   \n",
       "2008-06-10                                  88.810000   \n",
       "2008-06-17                                  95.860000   \n",
       "2008-06-24                                  93.795714   \n",
       "2008-07-01                                  86.524286   \n",
       "...                                               ...   \n",
       "2010-05-28                                  88.765714   \n",
       "2010-06-04                                  91.600000   \n",
       "2010-06-11                                  94.280000   \n",
       "2010-06-18                                  94.660000   \n",
       "2010-06-25                                  89.082857   \n",
       "\n",
       "                 reanalysis_sat_precip_amt_mm  \\\n",
       "week_start_date                                 \n",
       "2008-06-03                              30.09   \n",
       "2008-06-10                              13.27   \n",
       "2008-06-17                             111.18   \n",
       "2008-06-24                              89.88   \n",
       "2008-07-01                               0.00   \n",
       "...                                       ...   \n",
       "2010-05-28                              55.30   \n",
       "2010-06-04                              86.47   \n",
       "2010-06-11                              58.94   \n",
       "2010-06-18                              59.67   \n",
       "2010-06-25                              63.22   \n",
       "\n",
       "                 reanalysis_specific_humidity_g_per_kg  reanalysis_tdtr_k  \\\n",
       "week_start_date                                                             \n",
       "2008-06-03                                   16.711429           6.771429   \n",
       "2008-06-10                                   15.375714           9.300000   \n",
       "2008-06-17                                   17.447143           6.957143   \n",
       "2008-06-24                                   16.712857           7.385714   \n",
       "2008-07-01                                   15.285714           9.442857   \n",
       "...                                                ...                ...   \n",
       "2010-05-28                                   18.485714           9.800000   \n",
       "2010-06-04                                   18.070000           7.471429   \n",
       "2010-06-11                                   17.008571           7.500000   \n",
       "2010-06-18                                   16.815714           7.871429   \n",
       "2010-06-25                                   17.355714          11.014286   \n",
       "\n",
       "                 station_avg_temp_c  station_diur_temp_rng_c  \\\n",
       "week_start_date                                                \n",
       "2008-06-03                26.900000                 7.550000   \n",
       "2008-06-10                26.900000                 7.550000   \n",
       "2008-06-17                26.900000                 7.550000   \n",
       "2008-06-24                26.900000                 7.550000   \n",
       "2008-07-01                26.900000                 7.550000   \n",
       "...                             ...                      ...   \n",
       "2010-05-28                28.633333                11.933333   \n",
       "2010-06-04                27.433333                10.500000   \n",
       "2010-06-11                24.400000                 6.900000   \n",
       "2010-06-18                25.433333                 8.733333   \n",
       "2010-06-25                27.475000                 9.900000   \n",
       "\n",
       "                 station_max_temp_c  station_min_temp_c  station_precip_mm  \\\n",
       "week_start_date                                                              \n",
       "2008-06-03                     31.1                20.4               13.6   \n",
       "2008-06-10                     31.1                17.8                6.4   \n",
       "2008-06-17                     31.1                21.0               79.8   \n",
       "2008-06-24                     31.1                18.0               93.5   \n",
       "2008-07-01                     31.1                20.8                1.3   \n",
       "...                             ...                 ...                ...   \n",
       "2010-05-28                     35.4                22.4               27.0   \n",
       "2010-06-04                     34.7                21.7               36.6   \n",
       "2010-06-11                     32.2                19.2                7.4   \n",
       "2010-06-18                     31.2                21.0               16.0   \n",
       "2010-06-25                     33.7                22.2               20.4   \n",
       "\n",
       "                 total_cases  \n",
       "week_start_date               \n",
       "2008-06-03                 1  \n",
       "2008-06-10                 0  \n",
       "2008-06-17                 0  \n",
       "2008-06-24                 1  \n",
       "2008-07-01                 0  \n",
       "...                      ...  \n",
       "2010-05-28                 5  \n",
       "2010-06-04                 8  \n",
       "2010-06-11                 1  \n",
       "2010-06-18                 1  \n",
       "2010-06-25                 4  \n",
       "\n",
       "[108 rows x 21 columns]"
      ]
     },
     "execution_count": 10,
     "metadata": {},
     "output_type": "execute_result"
    }
   ],
   "source": [
    "# Forward fill NA values\n",
    "sj_train.fillna(method='ffill')\n",
    "iq_train.fillna(method='ffill')\n",
    "\n",
    "sj_test.fillna(method='ffill')\n",
    "iq_test.fillna(method='ffill')"
   ]
  },
  {
   "cell_type": "code",
   "execution_count": 11,
   "id": "0cfcbd4f-bd88-4ca2-b0aa-da3062d084cd",
   "metadata": {
    "tags": []
   },
   "outputs": [],
   "source": [
    "sj_labels = sj[['total_cases']]\n",
    "iq_labels = iq[['total_cases']]"
   ]
  },
  {
   "cell_type": "code",
   "execution_count": 30,
   "id": "55c75b7b-a8ab-41b5-9f5d-b8e080d159b9",
   "metadata": {
    "tags": []
   },
   "outputs": [],
   "source": [
    "# 分离特征和标签\n",
    "def split_features_labels(data):\n",
    "    return data.drop('total_cases', axis=1), data[['total_cases']].values.ravel()\n",
    "\n",
    "sj_train_features, sj_train_labels = split_features_labels(sj_train)\n",
    "sj_test_features, sj_test_labels = split_features_labels(sj_test)\n",
    "\n",
    "iq_train_features, iq_train_labels = split_features_labels(iq_train)\n",
    "iq_test_features, iq_test_labels = split_features_labels(iq_test)"
   ]
  },
  {
   "cell_type": "code",
   "execution_count": null,
   "id": "cb99e5d3-780b-423c-bc60-e6a2bd213e3d",
   "metadata": {
    "jupyter": {
     "source_hidden": true
    },
    "tags": []
   },
   "outputs": [],
   "source": [
    "# print ('San Juan')\n",
    "# print ('Shape of training features:',sj_train_features.shape)\n",
    "# print ('Shape of training labels:',sj_train_labels.shape)\n",
    "# print ('Shape of test features:',sj_test_features.shape)\n",
    "# print ('Shape of test labels:',sj_test_labels.shape)\n",
    "\n",
    "# print ('Iquitos')\n",
    "# print ('Shape of training features:',iq_train_features.shape)\n",
    "# print ('Shape of training labels:',iq_train_labels.shape)\n",
    "# print ('Shape of test features:',iq_test_features.shape)\n",
    "# print ('Shape of test labels:',iq_test_labels.shape)"
   ]
  },
  {
   "cell_type": "markdown",
   "id": "e0ac69ec-759c-4443-a446-7761d8126d8c",
   "metadata": {
    "jp-MarkdownHeadingCollapsed": true,
    "tags": []
   },
   "source": [
    "## Feature Selection"
   ]
  },
  {
   "cell_type": "code",
   "execution_count": 80,
   "id": "56cfe3e7-2d5c-4bdf-af07-3bfc773bfa12",
   "metadata": {
    "tags": []
   },
   "outputs": [
    {
     "data": {
      "text/plain": [
       "(746, 4)"
      ]
     },
     "execution_count": 80,
     "metadata": {},
     "output_type": "execute_result"
    }
   ],
   "source": [
    "# RFR_ = RFR(n_estimators =6,random_state=0)\n",
    "# X = sj_train_features\n",
    "# y = sj_train_labels\n",
    "\n",
    "# X_embedded = SelectFromModel(RFR_,threshold=0.03).fit_transform(X,y)\n",
    "\n",
    "# X_embedded.shape"
   ]
  },
  {
   "cell_type": "code",
   "execution_count": 83,
   "id": "b807ddfc-067e-459b-a639-a65f3ffd53fc",
   "metadata": {
    "tags": []
   },
   "outputs": [
    {
     "data": {
      "image/png": "[encoded data removed]",
      "text/plain": [
       "<Figure size 2000x500 with 1 Axes>"
      ]
     },
     "metadata": {},
     "output_type": "display_data"
    }
   ],
   "source": [
    "# threshold = np.linspace(0, (RFR_.fit(X, y).feature_importances_).max(), 10)\n",
    "\n",
    "# score = []\n",
    "# for i in threshold:\n",
    "#     X_embedded = SelectFromModel(RFR_, threshold=i).fit_transform(X, y)\n",
    "#     once = cross_val_score(RFR_, X_embedded, y, cv=5).mean()\n",
    "#     score.append(once)\n",
    "# plt.figure(figsize=(20, 5))\n",
    "# plt.plot(threshold, score)\n",
    "# plt.xticks(threshold)\n",
    "# plt.show()"
   ]
  },
  {
   "cell_type": "markdown",
   "id": "916b35c3-bf74-4234-8310-2e1e8b1b870f",
   "metadata": {},
   "source": [
    "## Random forest"
   ]
  },
  {
   "cell_type": "markdown",
   "id": "16a43bab-0ae3-4f5e-bbe5-34b83af1ad2a",
   "metadata": {},
   "source": [
    "### SJ"
   ]
  },
  {
   "cell_type": "code",
   "execution_count": null,
   "id": "6156b321-2516-475e-8ace-b9a34f3a651f",
   "metadata": {},
   "outputs": [],
   "source": [
    "# sj_train1 = sj_train.drop(columns = [\"reanalysis_avg_temp_k\",\"reanalysis_dew_point_temp_k\",\"reanalysis_max_air_temp_k\",\"reanalysis_min_air_temp_k\",\"reanalysis_sat_precip_amt_mm\",\"reanalysis_specific_humidity_g_per_kg\"])\n",
    "# sj_test1 = sj_test.drop(columns = [\"reanalysis_avg_temp_k\",\"reanalysis_dew_point_temp_k\",\"reanalysis_max_air_temp_k\",\"reanalysis_min_air_temp_k\",\"reanalysis_sat_precip_amt_mm\",\"reanalysis_specific_humidity_g_per_kg\"]) \n",
    "# iq_train1 = iq_train.drop(columns = [\"reanalysis_avg_temp_k\",\"reanalysis_dew_point_temp_k\",\"reanalysis_max_air_temp_k\",\"reanalysis_min_air_temp_k\",\"reanalysis_sat_precip_amt_mm\",\"reanalysis_specific_humidity_g_per_kg\"])\n",
    "# iq_test1 = iq_test.drop(columns = [\"reanalysis_avg_temp_k\",\"reanalysis_dew_point_temp_k\",\"reanalysis_max_air_temp_k\",\"reanalysis_min_air_temp_k\",\"reanalysis_sat_precip_amt_mm\",\"reanalysis_specific_humidity_g_per_kg\"]) "
   ]
  },
  {
   "cell_type": "code",
   "execution_count": 52,
   "id": "0438269c-eb50-444f-b8e6-c1f5b9739c23",
   "metadata": {
    "tags": []
   },
   "outputs": [],
   "source": [
    "X_train = sj_train_features\n",
    "y_train = sj_train_labels\n",
    "X_test = sj_test_features"
   ]
  },
  {
   "cell_type": "code",
   "execution_count": 53,
   "id": "78209dbc-20b5-4f87-b218-8030e0224630",
   "metadata": {
    "tags": []
   },
   "outputs": [],
   "source": [
    "# Features to be normalized\n",
    "features_to_normalize = ['reanalysis_air_temp_k', 'reanalysis_avg_temp_k', 'reanalysis_dew_point_temp_k',\n",
    "                         'reanalysis_max_air_temp_k', 'reanalysis_min_air_temp_k', 'station_avg_temp_c',\n",
    "                         'station_max_temp_c', 'station_min_temp_c']\n",
    "\n",
    "# Features to be scaled\n",
    "features_to_scale = ['station_diur_temp_rng_c', 'reanalysis_tdtr_k', 'precipitation_amt_mm',\n",
    "                     'reanalysis_precip_amt_kg_per_m2', 'reanalysis_relative_humidity_percent',\n",
    "                     'reanalysis_sat_precip_amt_mm', 'reanalysis_specific_humidity_g_per_kg',\n",
    "                     'station_precip_mm']\n",
    "\n",
    "sc = StandardScaler()\n",
    "# Fit and transform the scaler to the features to be scaled in both training and testing sets\n",
    "X_train[features_to_scale] = sc.fit_transform(X_train[features_to_scale])\n",
    "X_test[features_to_scale] = sc.transform(X_test[features_to_scale])\n",
    "\n",
    "minmax = MinMaxScaler()\n",
    "# Fit and transform the minmax scaler to the features to be normalized in both training and testing sets\n",
    "X_train[features_to_normalize] = minmax.fit_transform(X_train[features_to_normalize])\n",
    "X_test[features_to_normalize] = minmax.transform(X_test[features_to_normalize])"
   ]
  },
  {
   "cell_type": "code",
   "execution_count": 74,
   "id": "3c631d3c-1f22-440d-8be4-dac1bb2e7e9f",
   "metadata": {
    "tags": []
   },
   "outputs": [
    {
     "name": "stdout",
     "output_type": "stream",
     "text": [
      "28.955263157894738\n"
     ]
    }
   ],
   "source": [
    "rfr = RFR(n_estimators=5)\n",
    "rfr.fit(X_train, y_train)\n",
    "pred_rfr = rfr.predict(X_test)\n",
    "print(mean_absolute_error(sj_test_labels, pred_rfr))"
   ]
  },
  {
   "cell_type": "code",
   "execution_count": 63,
   "id": "f4bceb81-a47c-42db-addc-483c040c3563",
   "metadata": {
    "tags": []
   },
   "outputs": [],
   "source": [
    "#之后再补充 GridSearchCV和variable importance"
   ]
  },
  {
   "cell_type": "markdown",
   "id": "27dd3b3b-a184-4ef1-b22a-d82c832ceed4",
   "metadata": {},
   "source": [
    "### IQ"
   ]
  },
  {
   "cell_type": "code",
   "execution_count": 85,
   "id": "2809ddee-d2d2-45a2-8545-2a712a9f0217",
   "metadata": {
    "tags": []
   },
   "outputs": [],
   "source": [
    "X_train = iq_train_features\n",
    "y_train = iq_train_labels\n",
    "X_test = iq_test_features"
   ]
  },
  {
   "cell_type": "code",
   "execution_count": 86,
   "id": "991421fc-a531-4be2-be64-12770c022029",
   "metadata": {
    "tags": []
   },
   "outputs": [],
   "source": [
    "sc = StandardScaler()\n",
    "# Fit and transform the scaler to the features to be scaled in both training and testing sets\n",
    "X_train[features_to_scale] = sc.fit_transform(X_train[features_to_scale])\n",
    "X_test[features_to_scale] = sc.transform(X_test[features_to_scale])\n",
    "\n",
    "minmax = MinMaxScaler()\n",
    "# Fit and transform the minmax scaler to the features to be normalized in both training and testing sets\n",
    "X_train[features_to_normalize] = minmax.fit_transform(X_train[features_to_normalize])\n",
    "X_test[features_to_normalize] = minmax.transform(X_test[features_to_normalize])"
   ]
  },
  {
   "cell_type": "code",
   "execution_count": 88,
   "id": "ac5316f9-5aa7-4100-98e6-64e139b639e6",
   "metadata": {
    "tags": []
   },
   "outputs": [
    {
     "name": "stdout",
     "output_type": "stream",
     "text": [
      "8.32962962962963\n"
     ]
    }
   ],
   "source": [
    "rfr = RFR(n_estimators=5)\n",
    "rfr.fit(X_train, y_train)\n",
    "pred_rfr = rfr.predict(X_test)\n",
    "print(mean_absolute_error(iq_test_labels, pred_rfr))"
   ]
  }
 ],
 "metadata": {
  "kernelspec": {
   "display_name": "Python 3 (ipykernel)",
   "language": "python",
   "name": "python3"
  },
  "language_info": {
   "codemirror_mode": {
    "name": "ipython",
    "version": 3
   },
   "file_extension": ".py",
   "mimetype": "text/x-python",
   "name": "python",
   "nbconvert_exporter": "python",
   "pygments_lexer": "ipython3",
   "version": "3.8.18"
  }
 },
 "nbformat": 4,
 "nbformat_minor": 5
}
